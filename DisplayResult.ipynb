{
 "cells": [
  {
   "cell_type": "code",
   "execution_count": null,
   "id": "2f354e45-446c-4333-ad69-f2aaf4512a12",
   "metadata": {},
   "outputs": [],
   "source": [
    "import matplotlib.pyplot as plt\n",
    "import cv2\n",
    "\n",
    "PATH = \"/content/\"\n",
    "SEQUENCE = [\"Grayscale\", \"Frequency Domain\", \"Gaussian Filter\", \"Spatial Domain\"]\n",
    "FILENAME = [\"gray.jpg\", \"fft.jpg\", \"gaussian.jpg\", \"ifft.jpg\"]\n",
    "\n",
    "def displayImage(title, ori) :\n",
    "    accessPath = f\"{PATH}{title}/\"\n",
    "\n",
    "    plt.figure(figsize=(20, 5))\n",
    "\n",
    "    plt.suptitle(f\"{title} Result\", fontsize=20)\n",
    "\n",
    "    # show the first\n",
    "    plt.imshow(cv2.cvtColor(ori, cv2.COLOR_BGR2RGB))\n",
    "    plt.subplot(1, 5, 1)\n",
    "    plt.title(\"Original\")\n",
    "    plt.axis('off')\n",
    "\n",
    "    for i in range(2, 6):\n",
    "      # read image\n",
    "      frame = cv2.imread(f\"{accessPath}/{FILENAME[i - 1]}\")\n",
    "\n",
    "      # set location\n",
    "      plt.subplot(1, 5, i)\n",
    "\n",
    "      if i == 2 :\n",
    "        # grayscale\n",
    "        plt.imshow(frame, cmap='gray')\n",
    "      else :\n",
    "        plt.imshow(cv2.cvtColor(frame, cv2.COLOR_BGR2RGB))\n",
    "\n",
    "      # set name\n",
    "      plt.title(SEQUENCE[i - 1])\n",
    "      plt.axis('off')\n",
    "\n",
    "    plt.show()"
   ]
  },
  {
   "cell_type": "code",
   "execution_count": null,
   "id": "7645fae3-352d-4e1e-a99a-e66c7c2de459",
   "metadata": {},
   "outputs": [],
   "source": [
    "displayImage(\"serial\", \"lena.jpeg\")"
   ]
  }
 ],
 "metadata": {
  "kernelspec": {
   "display_name": "dspc",
   "language": "python",
   "name": "dspc"
  },
  "language_info": {
   "codemirror_mode": {
    "name": "ipython",
    "version": 3
   },
   "file_extension": ".py",
   "mimetype": "text/x-python",
   "name": "python",
   "nbconvert_exporter": "python",
   "pygments_lexer": "ipython3",
   "version": "3.12.8"
  }
 },
 "nbformat": 4,
 "nbformat_minor": 5
}
